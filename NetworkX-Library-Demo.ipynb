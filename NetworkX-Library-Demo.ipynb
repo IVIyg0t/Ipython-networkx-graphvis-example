{
 "cells": [
  {
   "cell_type": "markdown",
   "metadata": {},
   "source": [
    "# Install Libraries\n",
    "\n",
    "Please install Homebrew if you're running on OSX.  You will need it to get pygraphviz to install correctly."
   ]
  },
  {
   "cell_type": "code",
   "execution_count": 1,
   "metadata": {
    "collapsed": false
   },
   "outputs": [],
   "source": [
    "# pip install networkx NumPy SciPy Matplotlib PyYAML\n",
    "\n",
    "# brew install graphviz\n",
    "# pip install --global-option=build_ext --global-option=\"-I/usr/local/Cellar/graphviz/2.38.0/include/\"  --global-option=\"-L/usr/local/Cellar/graphviz/2.38.0/lib/\" pygraphviz\n"
   ]
  },
  {
   "cell_type": "code",
   "execution_count": 2,
   "metadata": {
    "collapsed": true
   },
   "outputs": [],
   "source": [
    "import networkx as nx\n",
    "from networkx.readwrite import json_graph"
   ]
  },
  {
   "cell_type": "markdown",
   "metadata": {},
   "source": [
    "# Create a graph"
   ]
  },
  {
   "cell_type": "code",
   "execution_count": 3,
   "metadata": {
    "collapsed": true
   },
   "outputs": [],
   "source": [
    "G = nx.Graph()"
   ]
  },
  {
   "cell_type": "markdown",
   "metadata": {},
   "source": [
    "## Create a graph with an attribute"
   ]
  },
  {
   "cell_type": "code",
   "execution_count": 4,
   "metadata": {
    "collapsed": false
   },
   "outputs": [
    {
     "data": {
      "text/plain": [
       "{'day': 'Friday'}"
      ]
     },
     "execution_count": 4,
     "metadata": {},
     "output_type": "execute_result"
    }
   ],
   "source": [
    "G = nx.Graph(day=\"Friday\")\n",
    "G.graph"
   ]
  },
  {
   "cell_type": "markdown",
   "metadata": {},
   "source": [
    "### Modify the attribute later"
   ]
  },
  {
   "cell_type": "code",
   "execution_count": 5,
   "metadata": {
    "collapsed": false
   },
   "outputs": [
    {
     "data": {
      "text/plain": [
       "{'day': 'Monday'}"
      ]
     },
     "execution_count": 5,
     "metadata": {},
     "output_type": "execute_result"
    }
   ],
   "source": [
    "G.graph['day'] = 'Monday'\n",
    "G.graph"
   ]
  },
  {
   "cell_type": "markdown",
   "metadata": {},
   "source": [
    "## Add nodes to the graph"
   ]
  },
  {
   "cell_type": "code",
   "execution_count": 6,
   "metadata": {
    "collapsed": true
   },
   "outputs": [],
   "source": [
    "G.add_node(1)\n",
    "\n",
    "# Alternatively add nodes using strings\n",
    "G.add_node('House Security')"
   ]
  },
  {
   "cell_type": "markdown",
   "metadata": {},
   "source": [
    "### Add a list of nodes to the graph"
   ]
  },
  {
   "cell_type": "code",
   "execution_count": 7,
   "metadata": {
    "collapsed": false
   },
   "outputs": [],
   "source": [
    "G.add_nodes_from([2,3])"
   ]
  },
  {
   "cell_type": "markdown",
   "metadata": {},
   "source": [
    "### Or add any 'nbunches' of nodes "
   ]
  },
  {
   "cell_type": "code",
   "execution_count": 8,
   "metadata": {
    "collapsed": true
   },
   "outputs": [],
   "source": [
    "H = nx.path_graph(10)\n",
    "G.add_nodes_from(H)"
   ]
  },
  {
   "cell_type": "markdown",
   "metadata": {},
   "source": [
    "## Add edges to the graph"
   ]
  },
  {
   "cell_type": "code",
   "execution_count": 9,
   "metadata": {
    "collapsed": false
   },
   "outputs": [],
   "source": [
    "G.add_edge(1,2)\n",
    "e = (2,3)\n",
    "G.add_edge(*e)"
   ]
  },
  {
   "cell_type": "markdown",
   "metadata": {},
   "source": [
    "### Add a list of edges"
   ]
  },
  {
   "cell_type": "code",
   "execution_count": 10,
   "metadata": {
    "collapsed": false
   },
   "outputs": [],
   "source": [
    "G.add_edges_from([\n",
    "        (1,2),\n",
    "        (1,3)\n",
    "    ])"
   ]
  },
  {
   "cell_type": "markdown",
   "metadata": {},
   "source": [
    "### Display graph data"
   ]
  },
  {
   "cell_type": "code",
   "execution_count": 11,
   "metadata": {
    "collapsed": false
   },
   "outputs": [
    {
     "name": "stdout",
     "output_type": "stream",
     "text": [
      "11\n",
      "3\n"
     ]
    }
   ],
   "source": [
    "print G.number_of_nodes()\n",
    "\n",
    "print G.number_of_edges()"
   ]
  },
  {
   "cell_type": "markdown",
   "metadata": {},
   "source": [
    "# Draw a graph"
   ]
  },
  {
   "cell_type": "code",
   "execution_count": 9,
   "metadata": {
    "collapsed": false
   },
   "outputs": [],
   "source": [
    "import matplotlib.pyplot as plt"
   ]
  },
  {
   "cell_type": "code",
   "execution_count": 13,
   "metadata": {
    "collapsed": true
   },
   "outputs": [],
   "source": [
    "nx.draw(G)\n",
    "plt.show()"
   ]
  },
  {
   "cell_type": "markdown",
   "metadata": {},
   "source": [
    "# Directed Graphs"
   ]
  },
  {
   "cell_type": "code",
   "execution_count": 32,
   "metadata": {
    "collapsed": false
   },
   "outputs": [],
   "source": [
    "dg = nx.DiGraph()\n",
    "nodes = ['House Security',\n",
    "         'Garage Security',\n",
    "         'Material',\n",
    "         'Uniqueness of Opener',\n",
    "         'Window Security',\n",
    "         'Material',\n",
    "         'Location and Height',\n",
    "         'Latched',\n",
    "         'Door Security',\n",
    "         'Locked',\n",
    "         'Spare Key',\n",
    "         'Homeowner',\n",
    "         'Location',\n",
    "         'Fence Security',\n",
    "         'Height',\n",
    "         'Neighborhood',\n",
    "         'Awareness of Neighbors',\n",
    "         'Traffic on Street',\n",
    "         'Number of Houses']\n",
    "edges = [\n",
    "    ('Garage Security','House Security'),\n",
    "    ('Material','Garage Security'),\n",
    "    ('Uniqueness of Opener','Garage Security'),\n",
    "    ('Window Security','House Security'),\n",
    "    ('Material','Window Security'),\n",
    "    ('Location and Height','Window Security'),\n",
    "    ('Latched','Window Security'),\n",
    "    ('Door Security','House Security'),\n",
    "    ('Locked','Door Security'),\n",
    "    ('Spare Key','Door Security'),\n",
    "    ('Homeowner','Spare Key'),\n",
    "    ('Homeowner','Locked'),\n",
    "    ('Homeowner','Latched'),\n",
    "    ('Location','Door Security'),\n",
    "    ('Material','Door Security'),\n",
    "    ('Fence Security','House Security'),\n",
    "    ('Material','Fence Security'),\n",
    "    ('Height','Fence Security'),\n",
    "    ('Neighborhood','House Security'),\n",
    "    ('Awareness of Neighbors','Neighborhood'),\n",
    "    ('Traffic on Street','Neighborhood'),\n",
    "    ('Number of Houses','Neighborhood')]\n",
    "dg.add_nodes_from(nodes)\n",
    "dg.add_edges_from(edges)"
   ]
  },
  {
   "cell_type": "markdown",
   "metadata": {},
   "source": [
    "## Convert graph to a GraphViz object (for better visualizations)\n",
    "\n",
    "GraphViz supports the following layout types:\n",
    " - **dot** : \"heirerchican\" or layed drawings of directed graphs.  This is the default to use if edges have direction.\n",
    " - **neato** : \"spring model\" layouts.  This is the default tool to use if the graph is not too large (about 100 nodes) and you don't know anything else about it.  Neato attempts to minimize a global energy function, which is equivalent to statistical multi-dimensional scaling.\n",
    " - **fdp** : \"spring model\" layouts similart to those of neato, but does this by reducing forces rather than working with energy.\n",
    " - **sfdp** : multiscale version of fdp for the layout of large graphs.\n",
    " - **twopi** : radial layouts, after Graham Will 97.  Nodes are placed on concentric circles depending on their distance from a given root node.\n",
    " - **circo** : circular layout, after Six and Tollis 99, Kauffman and Wiese 02.  This is suitable for certain diagrams \n",
    "of multiple cyclic structures such as certain telecommunications networks."
   ]
  },
  {
   "cell_type": "code",
   "execution_count": 25,
   "metadata": {
    "collapsed": false
   },
   "outputs": [],
   "source": [
    "#from networkx.drawing.nx_agraph import *\n",
    "graphFile = 'test.png'\n",
    "A = nx.drawing.nx_agraph.to_agraph(dg)\n",
    "A.layout(prog='dot')\n",
    "A.draw(graphFile)"
   ]
  },
  {
   "cell_type": "markdown",
   "metadata": {},
   "source": [
    "### Open the image in Ipython"
   ]
  },
  {
   "cell_type": "code",
   "execution_count": 26,
   "metadata": {
    "collapsed": false
   },
   "outputs": [
    {
     "data": {
      "image/png": "[encoded data removed]",
      "text/plain": [
       "<IPython.core.display.Image object>"
      ]
     },
     "metadata": {},
     "output_type": "display_data"
    }
   ],
   "source": [
    "from IPython.display import Image, display\n",
    "display(Image(graphFile))"
   ]
  },
  {
   "cell_type": "markdown",
   "metadata": {},
   "source": [
    "### Output graph to YAML structure"
   ]
  },
  {
   "cell_type": "code",
   "execution_count": 13,
   "metadata": {
    "collapsed": true
   },
   "outputs": [],
   "source": [
    "nx.write_yaml(dg,'test.yaml')"
   ]
  },
  {
   "cell_type": "markdown",
   "metadata": {},
   "source": [
    "# Graph Measurements\n",
    "\n",
    "## Katz Centrality\n",
    "\n",
    "Katz centrality[30] is a generalization of degree centrality. Degree centrality measures the number of direct neighbors, and Katz centrality measures the number of all nodes that can be connected through a path, while the contributions of distant nodes are penalized.  Katz centrality can be viewed as a variant of eigenvector centrality.\n",
    "\n",
    "<a href=\"https://en.wikipedia.org/wiki/Centrality\">Source</a>\n",
    "\n"
   ]
  },
  {
   "cell_type": "code",
   "execution_count": 27,
   "metadata": {
    "collapsed": false,
    "scrolled": true
   },
   "outputs": [
    {
     "name": "stdout",
     "output_type": "stream",
     "text": [
      "Awareness of Neighbors 0.07\n",
      "Door Security 0.35\n",
      "Fence Security 0.22\n",
      "Garage Security 0.14\n",
      "Height 0.07\n",
      "Homeowner 0.07\n",
      "House Security 0.79\n",
      "Latched 0.10\n",
      "Location 0.07\n",
      "Location and Height 0.07\n",
      "Locked 0.10\n",
      "Material 0.07\n",
      "Neighborhood 0.18\n",
      "Number of Houses 0.07\n",
      "Spare Key 0.10\n",
      "Traffic on Street 0.07\n",
      "Uniqueness of Opener 0.07\n",
      "Window Security 0.29\n"
     ]
    }
   ],
   "source": [
    "import math\n",
    "phi = (1 + math.sqrt(5))/2.0 # largest eigenvalue of adj matrix\n",
    "centrality = nx.katz_centrality(dg,1/phi-0.01)\n",
    "for n,c in sorted(centrality.items()):\n",
    "    print(\"%s %0.2f\"%(n,c))"
   ]
  },
  {
   "cell_type": "markdown",
   "metadata": {},
   "source": [
    "## Degree Centrality\n",
    "\n",
    "Historically first and conceptually simplest is degree centrality, which is defined as the number of links incident upon a node (i.e., the number of ties that a node has). The degree can be interpreted in terms of the immediate risk of a node for catching whatever is flowing through the network (such as a virus, or some information). In the case of a directed network (where ties have direction), we usually define two separate measures of degree centrality, namely indegree and outdegree. Accordingly, indegree is a count of the number of ties directed to the node and outdegree is the number of ties that the node directs to others. When ties are associated to some positive aspects such as friendship or collaboration, indegree is often interpreted as a form of popularity, and outdegree as gregariousness.\n",
    "<a href=\"https://en.wikipedia.org/wiki/Centrality\">Source</a>"
   ]
  },
  {
   "cell_type": "code",
   "execution_count": 19,
   "metadata": {
    "collapsed": false
   },
   "outputs": [
    {
     "name": "stdout",
     "output_type": "stream",
     "text": [
      "Awareness of Neighbors 0.06\n",
      "Door Security 0.29\n",
      "Fence Security 0.18\n",
      "Garage Security 0.18\n",
      "Height 0.06\n",
      "Homeowner 0.18\n",
      "House Security 0.29\n",
      "Latched 0.12\n",
      "Location 0.06\n",
      "Location and Height 0.06\n",
      "Locked 0.12\n",
      "Material 0.24\n",
      "Neighborhood 0.24\n",
      "Number of Houses 0.06\n",
      "Spare Key 0.12\n",
      "Traffic on Street 0.06\n",
      "Uniqueness of Opener 0.06\n",
      "Window Security 0.24\n"
     ]
    }
   ],
   "source": [
    "centrality = nx.degree_centrality(dg)\n",
    "for n,c in sorted(centrality.items()):\n",
    "    print(\"%s %0.2f\"%(n,c))"
   ]
  },
  {
   "cell_type": "markdown",
   "metadata": {},
   "source": [
    "## In-Degree Centrality"
   ]
  },
  {
   "cell_type": "code",
   "execution_count": 20,
   "metadata": {
    "collapsed": false
   },
   "outputs": [
    {
     "name": "stdout",
     "output_type": "stream",
     "text": [
      "Awareness of Neighbors 0.00\n",
      "Door Security 0.24\n",
      "Fence Security 0.12\n",
      "Garage Security 0.12\n",
      "Height 0.00\n",
      "Homeowner 0.00\n",
      "House Security 0.29\n",
      "Latched 0.06\n",
      "Location 0.00\n",
      "Location and Height 0.00\n",
      "Locked 0.06\n",
      "Material 0.00\n",
      "Neighborhood 0.18\n",
      "Number of Houses 0.00\n",
      "Spare Key 0.06\n",
      "Traffic on Street 0.00\n",
      "Uniqueness of Opener 0.00\n",
      "Window Security 0.18\n"
     ]
    }
   ],
   "source": [
    "centrality = nx.in_degree_centrality(dg)\n",
    "for n,c in sorted(centrality.items()):\n",
    "    print(\"%s %0.2f\"%(n,c))"
   ]
  },
  {
   "cell_type": "markdown",
   "metadata": {},
   "source": [
    "## Out-Degree Centrality"
   ]
  },
  {
   "cell_type": "code",
   "execution_count": 28,
   "metadata": {
    "collapsed": false
   },
   "outputs": [
    {
     "name": "stdout",
     "output_type": "stream",
     "text": [
      "Awareness of Neighbors 0.06\n",
      "Door Security 0.06\n",
      "Fence Security 0.06\n",
      "Garage Security 0.06\n",
      "Height 0.06\n",
      "Homeowner 0.18\n",
      "House Security 0.00\n",
      "Latched 0.06\n",
      "Location 0.06\n",
      "Location and Height 0.06\n",
      "Locked 0.06\n",
      "Material 0.24\n",
      "Neighborhood 0.06\n",
      "Number of Houses 0.06\n",
      "Spare Key 0.06\n",
      "Traffic on Street 0.06\n",
      "Uniqueness of Opener 0.06\n",
      "Window Security 0.06\n"
     ]
    }
   ],
   "source": [
    "centrality = nx.out_degree_centrality(dg)\n",
    "for n,c in sorted(centrality.items()):\n",
    "    print(\"%s %0.2f\"%(n,c))"
   ]
  },
  {
   "cell_type": "markdown",
   "metadata": {},
   "source": [
    "## Closeness Centrality\n",
    "\n",
    "In the classic definition of the closeness centrality, the spread of information is modeled by the use of shortest paths. This model might not be the most realistic for all types of communication scenarios. Thus, related definitions have been discussed to measure closeness, like the random walk closeness centrality introduced by Noh and Rieger (2004). It measures the speed with which randomly walking messages reach a vertex from elsewhere in the graph—a sort of random-walk version of closeness centrality.[24] Hierarchical closeness of Tran and Kwon (2014)[25] is an extended closeness centrality to deal still in another way with the limitation of closeness in graphs that are not strongly connected. The hierarchical closeness explicitly includes information about the range of other nodes that can be affected by the given node. <a href=\"https://en.wikipedia.org/wiki/Centrality\">Source</a>"
   ]
  },
  {
   "cell_type": "code",
   "execution_count": 29,
   "metadata": {
    "collapsed": false
   },
   "outputs": [
    {
     "name": "stdout",
     "output_type": "stream",
     "text": [
      "Awareness of Neighbors 0.08\n",
      "Door Security 0.06\n",
      "Fence Security 0.06\n",
      "Garage Security 0.06\n",
      "Height 0.08\n",
      "Homeowner 0.21\n",
      "House Security 0.00\n",
      "Latched 0.08\n",
      "Location 0.08\n",
      "Location and Height 0.08\n",
      "Locked 0.08\n",
      "Material 0.25\n",
      "Neighborhood 0.06\n",
      "Number of Houses 0.08\n",
      "Spare Key 0.08\n",
      "Traffic on Street 0.08\n",
      "Uniqueness of Opener 0.08\n",
      "Window Security 0.06\n"
     ]
    }
   ],
   "source": [
    "centrality = nx.closeness_centrality(dg)\n",
    "for n,c in sorted(centrality.items()):\n",
    "    print(\"%s %0.2f\"%(n,c))"
   ]
  },
  {
   "cell_type": "markdown",
   "metadata": {},
   "source": [
    "## Betweenness Centrality\n",
    "\n",
    "Betweenness centrality quantifies the number of times a node acts as a bridge along the shortest path between two other nodes. It was introduced as a measure for quantifying the control of a human on the communication between other humans in a social network by Linton Freeman[26] In his conception, vertices that have a high probability to occur on a randomly chosen shortest path between two randomly chosen vertices have a high betweenness. <a href=\"https://en.wikipedia.org/wiki/Centrality\">Source</a>"
   ]
  },
  {
   "cell_type": "code",
   "execution_count": 30,
   "metadata": {
    "collapsed": false
   },
   "outputs": [
    {
     "name": "stdout",
     "output_type": "stream",
     "text": [
      "Awareness of Neighbors 0.00\n",
      "Door Security 0.01\n",
      "Fence Security 0.00\n",
      "Garage Security 0.00\n",
      "Height 0.00\n",
      "Homeowner 0.00\n",
      "House Security 0.00\n",
      "Latched 0.00\n",
      "Location 0.00\n",
      "Location and Height 0.00\n",
      "Locked 0.00\n",
      "Material 0.00\n",
      "Neighborhood 0.01\n",
      "Number of Houses 0.00\n",
      "Spare Key 0.00\n",
      "Traffic on Street 0.00\n",
      "Uniqueness of Opener 0.00\n",
      "Window Security 0.01\n"
     ]
    }
   ],
   "source": [
    "centrality = nx.betweenness_centrality(dg)\n",
    "for n,c in sorted(centrality.items()):\n",
    "    print(\"%s %0.2f\"%(n,c))"
   ]
  },
  {
   "cell_type": "markdown",
   "metadata": {},
   "source": [
    "## Edge Betweenness Centrality"
   ]
  },
  {
   "cell_type": "code",
   "execution_count": 31,
   "metadata": {
    "collapsed": false
   },
   "outputs": [
    {
     "name": "stdout",
     "output_type": "stream",
     "text": [
      "('Awareness of Neighbors', 'Neighborhood') 0.01\n",
      "('Door Security', 'House Security') 0.02\n",
      "('Fence Security', 'House Security') 0.01\n",
      "('Garage Security', 'House Security') 0.01\n",
      "('Height', 'Fence Security') 0.01\n",
      "('Homeowner', 'Latched') 0.01\n",
      "('Homeowner', 'Locked') 0.01\n",
      "('Homeowner', 'Spare Key') 0.01\n",
      "('Latched', 'Window Security') 0.01\n",
      "('Location', 'Door Security') 0.01\n",
      "('Location and Height', 'Window Security') 0.01\n",
      "('Locked', 'Door Security') 0.01\n",
      "('Material', 'Door Security') 0.00\n",
      "('Material', 'Fence Security') 0.00\n",
      "('Material', 'Garage Security') 0.00\n",
      "('Material', 'Window Security') 0.00\n",
      "('Neighborhood', 'House Security') 0.01\n",
      "('Number of Houses', 'Neighborhood') 0.01\n",
      "('Spare Key', 'Door Security') 0.01\n",
      "('Traffic on Street', 'Neighborhood') 0.01\n",
      "('Uniqueness of Opener', 'Garage Security') 0.01\n",
      "('Window Security', 'House Security') 0.01\n"
     ]
    }
   ],
   "source": [
    "centrality = nx.edge_betweenness_centrality(dg)\n",
    "for n,c in sorted(centrality.items()):\n",
    "    print(\"%s %0.2f\"%(n,c))"
   ]
  },
  {
   "cell_type": "markdown",
   "metadata": {
    "collapsed": true
   },
   "source": [
    "# Add weights to edges"
   ]
  },
  {
   "cell_type": "code",
   "execution_count": 33,
   "metadata": {
    "collapsed": false
   },
   "outputs": [],
   "source": [
    "dg = nx.DiGraph()\n",
    "nodes = ['House Security',\n",
    "         'Garage Security',\n",
    "         'Material',\n",
    "         'Uniqueness of Opener',\n",
    "         'Window Security',\n",
    "         'Material',\n",
    "         'Location and Height',\n",
    "         'Latched',\n",
    "         'Door Security',\n",
    "         'Locked',\n",
    "         'Spare Key',\n",
    "         'Homeowner',\n",
    "         'Location',\n",
    "         'Fence Security',\n",
    "         'Height',\n",
    "         'Neighborhood',\n",
    "         'Awareness of Neighbors',\n",
    "         'Traffic on Street',\n",
    "         'Number of Houses']\n",
    "edges = [\n",
    "    ('Garage Security','House Security', 1),\n",
    "    ('Material','Garage Security', 1),\n",
    "    ('Uniqueness of Opener','Garage Security', 1),\n",
    "    ('Window Security','House Security', 1),\n",
    "    ('Material','Window Security', 3),\n",
    "    ('Location and Height','Window Security', 1),\n",
    "    ('Latched','Window Security', 1),\n",
    "    ('Door Security','House Security',1),\n",
    "    ('Locked','Door Security',1),\n",
    "    ('Spare Key','Door Security',1),\n",
    "    ('Homeowner','Spare Key',1),\n",
    "    ('Homeowner','Locked',1),\n",
    "    ('Homeowner','Latched',1),\n",
    "    ('Location','Door Security',1),\n",
    "    ('Material','Door Security',3),\n",
    "    ('Fence Security','House Security',1),\n",
    "    ('Material','Fence Security',3),\n",
    "    ('Height','Fence Security',1),\n",
    "    ('Neighborhood','House Security',1),\n",
    "    ('Awareness of Neighbors','Neighborhood',1),\n",
    "    ('Traffic on Street','Neighborhood',1),\n",
    "    ('Number of Houses','Neighborhood',1)]\n",
    "dg.add_nodes_from(nodes)\n",
    "for i in edges :\n",
    "    dg.add_edge(i[0],i[1],weight=i[2])"
   ]
  },
  {
   "cell_type": "markdown",
   "metadata": {},
   "source": [
    "## Calculate weighted centrality\n",
    "The centrality methods provided by NetworkX will automatically calculate using weights if they are provided in the graph.  This makes it easy for us to do so, because all we need to do is associate the edge weights when we defined the edges, and then run the associated centrality measurements we want."
   ]
  },
  {
   "cell_type": "markdown",
   "metadata": {},
   "source": [
    "# Graph Measurements (Weighted)\n",
    "\n",
    "## Katz Centrality\n",
    "\n",
    "Katz centrality[30] is a generalization of degree centrality. Degree centrality measures the number of direct neighbors, and Katz centrality measures the number of all nodes that can be connected through a path, while the contributions of distant nodes are penalized.  Katz centrality can be viewed as a variant of eigenvector centrality.\n",
    "\n",
    "<a href=\"https://en.wikipedia.org/wiki/Centrality\">Source</a>\n",
    "\n"
   ]
  },
  {
   "cell_type": "code",
   "execution_count": 27,
   "metadata": {
    "collapsed": false,
    "scrolled": true
   },
   "outputs": [
    {
     "name": "stdout",
     "output_type": "stream",
     "text": [
      "Awareness of Neighbors 0.07\n",
      "Door Security 0.35\n",
      "Fence Security 0.22\n",
      "Garage Security 0.14\n",
      "Height 0.07\n",
      "Homeowner 0.07\n",
      "House Security 0.79\n",
      "Latched 0.10\n",
      "Location 0.07\n",
      "Location and Height 0.07\n",
      "Locked 0.10\n",
      "Material 0.07\n",
      "Neighborhood 0.18\n",
      "Number of Houses 0.07\n",
      "Spare Key 0.10\n",
      "Traffic on Street 0.07\n",
      "Uniqueness of Opener 0.07\n",
      "Window Security 0.29\n"
     ]
    }
   ],
   "source": [
    "import math\n",
    "phi = (1 + math.sqrt(5))/2.0 # largest eigenvalue of adj matrix\n",
    "centrality = nx.katz_centrality(dg,1/phi-0.01)\n",
    "for n,c in sorted(centrality.items()):\n",
    "    print(\"%s %0.2f\"%(n,c))"
   ]
  },
  {
   "cell_type": "markdown",
   "metadata": {},
   "source": [
    "## Degree Centrality\n",
    "\n",
    "Historically first and conceptually simplest is degree centrality, which is defined as the number of links incident upon a node (i.e., the number of ties that a node has). The degree can be interpreted in terms of the immediate risk of a node for catching whatever is flowing through the network (such as a virus, or some information). In the case of a directed network (where ties have direction), we usually define two separate measures of degree centrality, namely indegree and outdegree. Accordingly, indegree is a count of the number of ties directed to the node and outdegree is the number of ties that the node directs to others. When ties are associated to some positive aspects such as friendship or collaboration, indegree is often interpreted as a form of popularity, and outdegree as gregariousness.\n",
    "<a href=\"https://en.wikipedia.org/wiki/Centrality\">Source</a>"
   ]
  },
  {
   "cell_type": "code",
   "execution_count": 19,
   "metadata": {
    "collapsed": false
   },
   "outputs": [
    {
     "name": "stdout",
     "output_type": "stream",
     "text": [
      "Awareness of Neighbors 0.06\n",
      "Door Security 0.29\n",
      "Fence Security 0.18\n",
      "Garage Security 0.18\n",
      "Height 0.06\n",
      "Homeowner 0.18\n",
      "House Security 0.29\n",
      "Latched 0.12\n",
      "Location 0.06\n",
      "Location and Height 0.06\n",
      "Locked 0.12\n",
      "Material 0.24\n",
      "Neighborhood 0.24\n",
      "Number of Houses 0.06\n",
      "Spare Key 0.12\n",
      "Traffic on Street 0.06\n",
      "Uniqueness of Opener 0.06\n",
      "Window Security 0.24\n"
     ]
    }
   ],
   "source": [
    "centrality = nx.degree_centrality(dg)\n",
    "for n,c in sorted(centrality.items()):\n",
    "    print(\"%s %0.2f\"%(n,c))"
   ]
  },
  {
   "cell_type": "markdown",
   "metadata": {},
   "source": [
    "## In-Degree Centrality"
   ]
  },
  {
   "cell_type": "code",
   "execution_count": 20,
   "metadata": {
    "collapsed": false
   },
   "outputs": [
    {
     "name": "stdout",
     "output_type": "stream",
     "text": [
      "Awareness of Neighbors 0.00\n",
      "Door Security 0.24\n",
      "Fence Security 0.12\n",
      "Garage Security 0.12\n",
      "Height 0.00\n",
      "Homeowner 0.00\n",
      "House Security 0.29\n",
      "Latched 0.06\n",
      "Location 0.00\n",
      "Location and Height 0.00\n",
      "Locked 0.06\n",
      "Material 0.00\n",
      "Neighborhood 0.18\n",
      "Number of Houses 0.00\n",
      "Spare Key 0.06\n",
      "Traffic on Street 0.00\n",
      "Uniqueness of Opener 0.00\n",
      "Window Security 0.18\n"
     ]
    }
   ],
   "source": [
    "centrality = nx.in_degree_centrality(dg)\n",
    "for n,c in sorted(centrality.items()):\n",
    "    print(\"%s %0.2f\"%(n,c))"
   ]
  },
  {
   "cell_type": "markdown",
   "metadata": {},
   "source": [
    "## Out-Degree Centrality"
   ]
  },
  {
   "cell_type": "code",
   "execution_count": 28,
   "metadata": {
    "collapsed": false
   },
   "outputs": [
    {
     "name": "stdout",
     "output_type": "stream",
     "text": [
      "Awareness of Neighbors 0.06\n",
      "Door Security 0.06\n",
      "Fence Security 0.06\n",
      "Garage Security 0.06\n",
      "Height 0.06\n",
      "Homeowner 0.18\n",
      "House Security 0.00\n",
      "Latched 0.06\n",
      "Location 0.06\n",
      "Location and Height 0.06\n",
      "Locked 0.06\n",
      "Material 0.24\n",
      "Neighborhood 0.06\n",
      "Number of Houses 0.06\n",
      "Spare Key 0.06\n",
      "Traffic on Street 0.06\n",
      "Uniqueness of Opener 0.06\n",
      "Window Security 0.06\n"
     ]
    }
   ],
   "source": [
    "centrality = nx.out_degree_centrality(dg)\n",
    "for n,c in sorted(centrality.items()):\n",
    "    print(\"%s %0.2f\"%(n,c))"
   ]
  },
  {
   "cell_type": "markdown",
   "metadata": {},
   "source": [
    "## Closeness Centrality\n",
    "\n",
    "In the classic definition of the closeness centrality, the spread of information is modeled by the use of shortest paths. This model might not be the most realistic for all types of communication scenarios. Thus, related definitions have been discussed to measure closeness, like the random walk closeness centrality introduced by Noh and Rieger (2004). It measures the speed with which randomly walking messages reach a vertex from elsewhere in the graph—a sort of random-walk version of closeness centrality.[24] Hierarchical closeness of Tran and Kwon (2014)[25] is an extended closeness centrality to deal still in another way with the limitation of closeness in graphs that are not strongly connected. The hierarchical closeness explicitly includes information about the range of other nodes that can be affected by the given node. <a href=\"https://en.wikipedia.org/wiki/Centrality\">Source</a>"
   ]
  },
  {
   "cell_type": "code",
   "execution_count": 29,
   "metadata": {
    "collapsed": false
   },
   "outputs": [
    {
     "name": "stdout",
     "output_type": "stream",
     "text": [
      "Awareness of Neighbors 0.08\n",
      "Door Security 0.06\n",
      "Fence Security 0.06\n",
      "Garage Security 0.06\n",
      "Height 0.08\n",
      "Homeowner 0.21\n",
      "House Security 0.00\n",
      "Latched 0.08\n",
      "Location 0.08\n",
      "Location and Height 0.08\n",
      "Locked 0.08\n",
      "Material 0.25\n",
      "Neighborhood 0.06\n",
      "Number of Houses 0.08\n",
      "Spare Key 0.08\n",
      "Traffic on Street 0.08\n",
      "Uniqueness of Opener 0.08\n",
      "Window Security 0.06\n"
     ]
    }
   ],
   "source": [
    "centrality = nx.closeness_centrality(dg)\n",
    "for n,c in sorted(centrality.items()):\n",
    "    print(\"%s %0.2f\"%(n,c))"
   ]
  },
  {
   "cell_type": "markdown",
   "metadata": {},
   "source": [
    "## Betweenness Centrality\n",
    "\n",
    "Betweenness centrality quantifies the number of times a node acts as a bridge along the shortest path between two other nodes. It was introduced as a measure for quantifying the control of a human on the communication between other humans in a social network by Linton Freeman[26] In his conception, vertices that have a high probability to occur on a randomly chosen shortest path between two randomly chosen vertices have a high betweenness. <a href=\"https://en.wikipedia.org/wiki/Centrality\">Source</a>"
   ]
  },
  {
   "cell_type": "code",
   "execution_count": 30,
   "metadata": {
    "collapsed": false
   },
   "outputs": [
    {
     "name": "stdout",
     "output_type": "stream",
     "text": [
      "Awareness of Neighbors 0.00\n",
      "Door Security 0.01\n",
      "Fence Security 0.00\n",
      "Garage Security 0.00\n",
      "Height 0.00\n",
      "Homeowner 0.00\n",
      "House Security 0.00\n",
      "Latched 0.00\n",
      "Location 0.00\n",
      "Location and Height 0.00\n",
      "Locked 0.00\n",
      "Material 0.00\n",
      "Neighborhood 0.01\n",
      "Number of Houses 0.00\n",
      "Spare Key 0.00\n",
      "Traffic on Street 0.00\n",
      "Uniqueness of Opener 0.00\n",
      "Window Security 0.01\n"
     ]
    }
   ],
   "source": [
    "centrality = nx.betweenness_centrality(dg)\n",
    "for n,c in sorted(centrality.items()):\n",
    "    print(\"%s %0.2f\"%(n,c))"
   ]
  },
  {
   "cell_type": "markdown",
   "metadata": {},
   "source": [
    "## Edge Betweenness Centrality"
   ]
  },
  {
   "cell_type": "code",
   "execution_count": 31,
   "metadata": {
    "collapsed": false
   },
   "outputs": [
    {
     "name": "stdout",
     "output_type": "stream",
     "text": [
      "('Awareness of Neighbors', 'Neighborhood') 0.01\n",
      "('Door Security', 'House Security') 0.02\n",
      "('Fence Security', 'House Security') 0.01\n",
      "('Garage Security', 'House Security') 0.01\n",
      "('Height', 'Fence Security') 0.01\n",
      "('Homeowner', 'Latched') 0.01\n",
      "('Homeowner', 'Locked') 0.01\n",
      "('Homeowner', 'Spare Key') 0.01\n",
      "('Latched', 'Window Security') 0.01\n",
      "('Location', 'Door Security') 0.01\n",
      "('Location and Height', 'Window Security') 0.01\n",
      "('Locked', 'Door Security') 0.01\n",
      "('Material', 'Door Security') 0.00\n",
      "('Material', 'Fence Security') 0.00\n",
      "('Material', 'Garage Security') 0.00\n",
      "('Material', 'Window Security') 0.00\n",
      "('Neighborhood', 'House Security') 0.01\n",
      "('Number of Houses', 'Neighborhood') 0.01\n",
      "('Spare Key', 'Door Security') 0.01\n",
      "('Traffic on Street', 'Neighborhood') 0.01\n",
      "('Uniqueness of Opener', 'Garage Security') 0.01\n",
      "('Window Security', 'House Security') 0.01\n"
     ]
    }
   ],
   "source": [
    "centrality = nx.edge_betweenness_centrality(dg)\n",
    "for n,c in sorted(centrality.items()):\n",
    "    print(\"%s %0.2f\"%(n,c))"
   ]
  },
  {
   "cell_type": "markdown",
   "metadata": {},
   "source": [
    "# Import graph from GraphML Structure"
   ]
  },
  {
   "cell_type": "code",
   "execution_count": 34,
   "metadata": {
    "collapsed": true
   },
   "outputs": [],
   "source": [
    "gml = nx.read_graphml('example.xml')"
   ]
  },
  {
   "cell_type": "code",
   "execution_count": 37,
   "metadata": {
    "collapsed": false
   },
   "outputs": [],
   "source": [
    "#from networkx.drawing.nx_agraph import *\n",
    "graphFile = 'testGraphML.png'\n",
    "A = nx.drawing.nx_agraph.to_agraph(gml)\n",
    "A.layout(prog='dot')\n",
    "A.draw(graphFile)"
   ]
  },
  {
   "cell_type": "markdown",
   "metadata": {},
   "source": [
    "### Open the image in Ipython"
   ]
  },
  {
   "cell_type": "code",
   "execution_count": 38,
   "metadata": {
    "collapsed": false
   },
   "outputs": [
    {
     "data": {
      "image/png": "[encoded data removed]",
      "text/plain": [
       "<IPython.core.display.Image object>"
      ]
     },
     "metadata": {},
     "output_type": "display_data"
    }
   ],
   "source": [
    "from IPython.display import Image, display\n",
    "display(Image(graphFile))"
   ]
  }
 ],
 "metadata": {
  "kernelspec": {
   "display_name": "Python 2",
   "language": "python",
   "name": "python2"
  },
  "language_info": {
   "codemirror_mode": {
    "name": "ipython",
    "version": 2
   },
   "file_extension": ".py",
   "mimetype": "text/x-python",
   "name": "python",
   "nbconvert_exporter": "python",
   "pygments_lexer": "ipython2",
   "version": "2.7.11"
  }
 },
 "nbformat": 4,
 "nbformat_minor": 0
}
